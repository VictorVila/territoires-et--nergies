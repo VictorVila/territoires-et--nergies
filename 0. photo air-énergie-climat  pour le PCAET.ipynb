{
 "cells": [
  {
   "cell_type": "markdown",
   "metadata": {},
   "source": [
    "# Défi n°1\n",
    "## Construire une photographie « air-énergie-climat » pour le PCAET\n",
    "\n",
    "Il s’agit d’établir, pour les collectivités de ** 20 000 à 50 000 habitants**, une photographie « air-énergie-climat » mixant des données \n",
    "* de consommations d'énergie, \n",
    "* de productions d'énergie renouvelable, \n",
    "* d’émissions de polluants et de gaz à effet de serre... \n",
    "afin d’alimenter les débats de lancement ou de suivi du PCAET."
   ]
  },
  {
   "cell_type": "markdown",
   "metadata": {},
   "source": [
    "### ++ Réaliser un diagnostic territorial\n",
    "\n",
    "Le travail de diagnostic territorial est primordial pour mettre en place les fondations du PCAET grâce à une connaissance fine de l’existant. \n",
    "\n",
    "C’est sur cette base que sont ensuite déterminés des objectifs à la fois ambitieux et atteignables sur les court, moyen et long termes en toute impartialité. \n",
    "\n",
    "Dans ce but, les **enjeux** comme les **marges de progression** possibles doivent être quantifiés.\n",
    "\n",
    "Le décret précise le contenu du diagnostic. Ce dernier comprend obligatoirement :\n",
    "\n",
    "— Un état des lieux complet de la situation énergétique incluant :\n",
    "* une analyse de la *consommation énergétique* finale du territoire et de son potentiel de réduction,\n",
    "* une présentation des *réseaux de transport et de distribution* d’électricité, de gaz et de chaleur et de leurs options de développement,\n",
    "* une analyse du potentiel de développement des énergies renouvelables.\n",
    "\n",
    "— L’estimation des émissions territoriales de gaz à effet de serre et de leur potentiel de réduction\n",
    "\n",
    "— L’estimation des émissions de polluants atmosphériques et de leur potentiel de réduction\n",
    "\n",
    "— L’estimation de la séquestration nette de CO2 et de son potentiel de développement\n",
    "\n",
    "— L’analyse de la vulnérabilité du territoire aux effets du changement climatique."
   ]
  },
  {
   "cell_type": "markdown",
   "metadata": {},
   "source": [
    "# Structure\n",
    "\n",
    "```\n",
    "production ---------> consommation ----------> émissions\n",
    "```\n",
    "\n",
    "### 1. Sankey\n",
    "* consommation par secteur > consommation globale > air"
   ]
  },
  {
   "cell_type": "markdown",
   "metadata": {},
   "source": [
    "### 2. La commune\n",
    "* informations admin : insee, cp, epci, région, dépt\n",
    "* population, superficie\n",
    "* établissements (lien vers air)\n",
    "* engagement : agendas 21, déplacement au travail\n",
    "* diagnostics de performance énergétique (DPE) https://www.data.gouv.fr/fr/datasets/base-des-diagnostics-de-performance-energetique-dpe/\n",
    "* Contour de la collectivité sur une carte\n",
    "\n",
    "Données :\n",
    "* INSEE - données de population des communes : https://www.insee.fr/fr/statistiques/2521169#consulter\n",
    "* NosDonnées - http://www.nosdonnees.fr/wiki/index.php/Fichier:EUCircos_Regions_departements_circonscriptions_communes_gps.csv.gz\n",
    "* ORE - conso-elec-annuelle-par-secteur-dactivite-agregee-commune.csv \n"
   ]
  },
  {
   "cell_type": "markdown",
   "metadata": {},
   "source": [
    "### 3. [Production] productions d'énergie renouvelable\n",
    "* afficher la production ENR régionale\n",
    "* appliquer les pourcentages ENR à la consommation de la commune \n",
    "\n",
    "Données :\n",
    "* production régionale ENR https://opendata.reseaux-energies.fr/explore/dataset/production-annuelle-regionale-enr/export/?disjunctive.region&sort=-annee \n",
    "* Biométhane en région : https://opendata.reseaux-energies.fr/explore/dataset/installations-regionales-de-biomethane/\n",
    "* POTENTIEL : vitesse vent + exposition solaire :  https://opendata.reseaux-energies.fr/explore/dataset/rayonnement-solaire-vitesse-vent-tri-horaires-regionaux/table/?disjunctive.region&sort=-date"
   ]
  },
  {
   "cell_type": "markdown",
   "metadata": {},
   "source": [
    "### 4.  [Consommation] consommations d'énergie \n",
    "\n",
    "* ORE - conso-elec-annuelle-par-secteur-dactivite-agregee-commune.csv\n",
    "* ORE - conso-gaz-annuelle-par-secteur-dactivite-agregee-commune.csv\n",
    "* **TODO** - pétrole"
   ]
  },
  {
   "cell_type": "markdown",
   "metadata": {},
   "source": [
    "### 5. [Emissions] émissions de polluants et de gaz à effet de serre\n",
    "* Prevair  - \n",
    "https://www.data.gouv.fr/fr/datasets/mise-a-disposition-de-donnees-de-qualite-de-lair-sur-la-france-www-prevair-org-1/\n",
    "* Données éCO2mix régionales https://opendata.reseaux-energies.fr/explore/dataset/eco2mix-regional-cons-def/table/?disjunctive.libelle_region&disjunctive.nature&sort=-date_heure\n",
    "* http://www.georisques.gouv.fr/dossiers/irep/telechargement# \n",
    "* Etablissements polluants - georisques/emissions.csv"
   ]
  },
  {
   "cell_type": "markdown",
   "metadata": {},
   "source": [
    "### 6. [Climat et évolution] \n",
    "* Altitude \n",
    "* Temperature quotidienne régionale https://www.data.gouv.fr/fr/datasets/temperature-quotidienne-regionale-2016-2017/\n",
    "* Développement durable : 20 indicateurs régionaux et départementaux https://insee.fr/fr/statistiques/2512993#dictionnaire \n",
    "* Evolution températures\n",
    "* Montée des eaux, zones inondables, changement climatique"
   ]
  },
  {
   "cell_type": "markdown",
   "metadata": {},
   "source": [
    "## Datasets\n",
    "\n",
    "data/insee/indicateurs-01-2018-csv.csv\n",
    "\n",
    "** populations légales en 2015 **\n",
    "https://www.insee.fr/fr/statistiques/3545833?sommaire=3292701\n",
    "data/insee/population-2015.csv\n",
    "\n",
    "** population 2013 avec code insee + altitude et surface**\n",
    "https://public.opendatasoft.com/explore/dataset/correspondance-code-insee-code-postal/table/?location=3,18.5278,-2.98684&basemap=jawg.streets\n",
    "\n",
    "2015\n",
    "\n",
    "https://data.opendatasoft.com/explore/dataset/code-postal-code-insee-2015@public/"
   ]
  }
 ],
 "metadata": {
  "kernelspec": {
   "display_name": "Python 3",
   "language": "python",
   "name": "python3"
  },
  "language_info": {
   "codemirror_mode": {
    "name": "ipython",
    "version": 3
   },
   "file_extension": ".py",
   "mimetype": "text/x-python",
   "name": "python",
   "nbconvert_exporter": "python",
   "pygments_lexer": "ipython3",
   "version": "3.6.1"
  }
 },
 "nbformat": 4,
 "nbformat_minor": 2
}
