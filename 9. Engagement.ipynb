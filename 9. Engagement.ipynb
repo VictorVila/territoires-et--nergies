{
 "cells": [
  {
   "cell_type": "markdown",
   "metadata": {},
   "source": [
    "# Engagement\n",
    "\n",
    "Ce notebook sert à préparer les données des collectivités entre 20K et 50K habitants.\n",
    "\n",
    "On va combiner des informations de ces sources :\n",
    "* INSEE - données de population des communes : https://www.insee.fr/fr/statistiques/2521169#consulter\n",
    "* ORE - : \n",
    "* NosDonnées - latitude et longitude :  http://www.nosdonnees.fr/wiki/index.php/Fichier:EUCircos_Regions_departements_circonscriptions_communes_gps.csv.gz"
   ]
  },
  {
   "cell_type": "code",
   "execution_count": 1,
   "metadata": {
    "collapsed": true
   },
   "outputs": [],
   "source": [
    "import pandas as pd \n",
    "import glob\n",
    "import numpy as np"
   ]
  },
  {
   "cell_type": "markdown",
   "metadata": {},
   "source": [
    "# Open Data Soft\n",
    "\n",
    "data/opendatasoft/code-postal-code-insee-2015.csv\n",
    "\n",
    "['Geo Point', 'Geo Shape', 'ID_GEOFLA', 'CODE_COM', 'INSEE_COM',\n",
    "       'NOM_COM', 'STATUT', 'X_CHF_LIEU', 'Y_CHF_LIEU', 'X_CENTROID',\n",
    "       'Y_CENTROID', 'Z_MOYEN', 'SUPERFICIE', 'POPULATION', 'CODE_CANT',\n",
    "       'CODE_ARR', 'CODE_DEPT', 'NOM_DEPT', 'CODE_REG', 'NOM_REG', 'Ligne_5',\n",
    "       'Libelle_acheminement', 'Code_postal', 'Nom_commune',\n",
    "       'coordonnees_gps']"
   ]
  },
  {
   "cell_type": "markdown",
   "metadata": {},
   "source": [
    "# Insee\n"
   ]
  },
  {
   "cell_type": "code",
   "execution_count": 7,
   "metadata": {},
   "outputs": [
    {
     "data": {
      "text/plain": [
       "Index(['id,type,territoire,vie hommes 2015,vie hommes 2010,vie femmes 2015,vie femmes 2010, Disparité de niveau de vie  2014,Taux de pauvreté 2014,jeunes non insérés (%) 2014,jeunes non insérés (%) 2009,plus de 7 mn des services de santé 2016,Part de la population estimée en zone inondable (%) 2013,Part de la population estimée en zone inondable (%) 2008'], dtype='object')"
      ]
     },
     "execution_count": 7,
     "metadata": {},
     "output_type": "execute_result"
    }
   ],
   "source": [
    "df = pd.read_csv('data/insee/indicateurs-01-2018.csv', sep=';')\n",
    "df.columns"
   ]
  },
  {
   "cell_type": "code",
   "execution_count": 12,
   "metadata": {},
   "outputs": [
    {
     "data": {
      "text/plain": [
       "Index(['Code_commune_INSEE', 'Nom_commune', 'Code_postal',\n",
       "       'Libelle_acheminement', 'Ligne_5', 'coordonnees_gps'],\n",
       "      dtype='object')"
      ]
     },
     "execution_count": 12,
     "metadata": {},
     "output_type": "execute_result"
    }
   ],
   "source": [
    "df2 = pd.read_csv('data/insee/laposte_hexasmal.csv', sep=';', encoding='iso-8859-1')\n",
    "df2.columns"
   ]
  },
  {
   "cell_type": "markdown",
   "metadata": {},
   "source": [
    "## Données INSEE\n",
    "\n",
    "data/insee/base_cc.csv"
   ]
  },
  {
   "cell_type": "markdown",
   "metadata": {},
   "source": [
    "## Données ORE\n",
    "\n",
    "data/ore/conso-elec-annuelle-par-secteur-dactivite-agregee-commune.csv"
   ]
  },
  {
   "cell_type": "markdown",
   "metadata": {},
   "source": [
    "## NosDonnées \n",
    "\n",
    "http://www.nosdonnees.fr/wiki/index.php/Fichier:EUCircos_Regions_departements_circonscriptions_communes_gps.csv.gz"
   ]
  },
  {
   "cell_type": "markdown",
   "metadata": {
    "collapsed": true
   },
   "source": [
    "## to sql"
   ]
  },
  {
   "cell_type": "code",
   "execution_count": 62,
   "metadata": {
    "collapsed": true
   },
   "outputs": [],
   "source": [
    "import pymysql.cursors\n",
    "\n",
    "connection = pymysql.connect( host='localhost',\n",
    "                              user='root',\n",
    "                              passwd='root',\n",
    "                              db='energie',\n",
    "                              charset='utf8mb4',\n",
    "                              cursorclass=pymysql.cursors.DictCursor)\n",
    "\n",
    "cursor = connection.cursor()"
   ]
  },
  {
   "cell_type": "code",
   "execution_count": 63,
   "metadata": {
    "collapsed": true
   },
   "outputs": [],
   "source": [
    "# Insertion BDD\n",
    "# Problèmes avec les types. Pour simplifier, tout est passé en string / varchar \n",
    "# Il a été nécessaire de changer les NaN en ''\n",
    "\n",
    "with connection.cursor() as cursor:\n",
    "    \n",
    "    sql = (\"INSERT INTO `communes_20_50` \"\n",
    "           \"( insee, cp, libelle, EU_circo, code_region, \"\n",
    "           \"  region, code_dept, dept, population, population_2010, \" \n",
    "           \"  superficie, menages, logements, salaries, \"\n",
    "           \" `ets_actifs`, `ets_agriculture`,  `ets_industrie`, `ets_construction`, \"\n",
    "           \" `ets_com_serv`, `ets_repar_auto`, `ets_adm`, `ets_moins_10`,  \"\n",
    "           \" `ets_plus_10`, `code_epci`, `epci`, `forme`, `geolocalisation`,\"\n",
    "           \" latitude, longitude )\"\n",
    "           \"VALUES (\"\n",
    "           \" %s, %s, %s, %s, %s, %s, %s, %s, %s, %s,  %s, %s, %s, %s, %s, %s, %s, %s, %s, %s,  %s, %s, %s, %s, %s, %s, %s, %s, %s)\"\n",
    "          )\n",
    "\n",
    "    for i, r in tout.iterrows():\n",
    "        cursor.execute(sql, \n",
    "                       (r['insee'], r['cp'], r['libelle'], r['EU_circo'], r['code_region'], \n",
    "                        r['region'], r['code_dept'], r['dept'], r['population'], r['population_2010'], \n",
    "                        r['superficie'], r['menages'], r['logements'], r['salaries'], \n",
    "                        r['ets_actifs'], r['ets_agriculture'], r['ets_industrie'], r['ets_construction'], \n",
    "                        r['ets_com_serv'], r['ets_repar_auto'], r['ets_adm'], r['ets_moins_10'], \n",
    "                        r['ets_plus_10'], r['code_epci'], r['epci'], r['forme'], r['geolocalisation'],\n",
    "                        r['latitude'],r['longitude'])\n",
    "                      )\n",
    "\n",
    "connection.commit() "
   ]
  },
  {
   "cell_type": "code",
   "execution_count": null,
   "metadata": {
    "collapsed": true
   },
   "outputs": [],
   "source": []
  }
 ],
 "metadata": {
  "kernelspec": {
   "display_name": "Python 3",
   "language": "python",
   "name": "python3"
  },
  "language_info": {
   "codemirror_mode": {
    "name": "ipython",
    "version": 3
   },
   "file_extension": ".py",
   "mimetype": "text/x-python",
   "name": "python",
   "nbconvert_exporter": "python",
   "pygments_lexer": "ipython3",
   "version": "3.6.1"
  }
 },
 "nbformat": 4,
 "nbformat_minor": 2
}
