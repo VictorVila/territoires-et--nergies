{
 "cells": [
  {
   "cell_type": "markdown",
   "metadata": {},
   "source": [
    "# DPE\n",
    "\n",
    "Données issues de https://www.data.gouv.fr/s/resources/base-des-diagnostics-de-performance-energetique-dpe/20160427-112416/DPE_GreenTech_noduplicates_yearonly.zip\n",
    "\n",
    "\n",
    "Type de fichiers : CSV \n",
    "\n",
    "Nombre d'enregistrements : 1 653 194 \n",
    "\n",
    "Champs : \n",
    "* Code_postal = \"code postal\" : 5 caractères \n",
    "* tr002_type_batiment_id = \"type de bâtiment\" : maison (code 1) ; appartement (code 2) \n",
    "* annee_construction = \"année de construction\" : 4 caractères \n",
    "* surface_habitable = \"surface habitable\" : en m² \n",
    "* consommation_energie = \"consommation énergie\" : Consommation tous usages en kWh/m² \n",
    "* date_reception_dpe = \"année du DPE\" : 4 caractères \n",
    "* nom_methode_dpe = \"méthode utilisée\" : il y a plusieurs méthodes aggrées pour calculer et rendre compte du DPE. \n",
    "* tr001_modele_dpe_id = \"type de DPE\" : caractérise s'il s'agit d'une vente, d'une location, du neuf, ... et comment le DPE a été calculé. Voir tableau ci-dessous \n",
    "* tr006_type_usage_id = code usage (cf champ suivant) \n",
    "* description = usage : chauffage dans pratiquement tous les cas de cette extraction \n",
    "* tr004_type_energie_id = code énergie \n",
    "* description = \"énergie\" : énergie correspondant à usage (chauffage) : liste de valeur (Bois, Biomasse, électricité, gaz, autre...) \n",
    "* consommation_energie_finale= \"consommation énergie finale\" : Consommation pour le usage uniquement (chauffage) (KWh)"
   ]
  },
  {
   "cell_type": "code",
   "execution_count": 1,
   "metadata": {
    "collapsed": true
   },
   "outputs": [],
   "source": [
    "import antigravity\n"
   ]
  },
  {
   "cell_type": "code",
   "execution_count": 2,
   "metadata": {
    "collapsed": true
   },
   "outputs": [],
   "source": [
    "import pandas as pd\n",
    "import numpy as np\n",
    "import re"
   ]
  },
  {
   "cell_type": "markdown",
   "metadata": {},
   "source": [
    "## /!\\ Code Postal\n",
    "\n",
    "La colonne code postal contient parfois des adresses complètes ! \n",
    "\n",
    "Cela empêche le bon calcul des moyennes etc\n",
    "\n",
    "On est obligés d'extraire le code postal via regex"
   ]
  },
  {
   "cell_type": "code",
   "execution_count": 3,
   "metadata": {},
   "outputs": [
    {
     "data": {
      "text/html": [
       "<div>\n",
       "<style>\n",
       "    .dataframe thead tr:only-child th {\n",
       "        text-align: right;\n",
       "    }\n",
       "\n",
       "    .dataframe thead th {\n",
       "        text-align: left;\n",
       "    }\n",
       "\n",
       "    .dataframe tbody tr th {\n",
       "        vertical-align: top;\n",
       "    }\n",
       "</style>\n",
       "<table border=\"1\" class=\"dataframe\">\n",
       "  <thead>\n",
       "    <tr style=\"text-align: right;\">\n",
       "      <th></th>\n",
       "      <th>code_postal</th>\n",
       "      <th>annee_construction</th>\n",
       "      <th>surface_habitable</th>\n",
       "      <th>consommation_energie</th>\n",
       "      <th>consommation_energie_finale</th>\n",
       "    </tr>\n",
       "  </thead>\n",
       "  <tbody>\n",
       "    <tr>\n",
       "      <th>0</th>\n",
       "      <td>80800</td>\n",
       "      <td>2001</td>\n",
       "      <td>99.0</td>\n",
       "      <td>200.00</td>\n",
       "      <td>7133.95</td>\n",
       "    </tr>\n",
       "    <tr>\n",
       "      <th>1</th>\n",
       "      <td>87500</td>\n",
       "      <td>2006</td>\n",
       "      <td>101.0</td>\n",
       "      <td>131.56</td>\n",
       "      <td>5550.00</td>\n",
       "    </tr>\n",
       "    <tr>\n",
       "      <th>2</th>\n",
       "      <td>87400</td>\n",
       "      <td>1999</td>\n",
       "      <td>110.0</td>\n",
       "      <td>184.26</td>\n",
       "      <td>5656.45</td>\n",
       "    </tr>\n",
       "  </tbody>\n",
       "</table>\n",
       "</div>"
      ],
      "text/plain": [
       "  code_postal  annee_construction  surface_habitable  consommation_energie  \\\n",
       "0       80800                2001               99.0                200.00   \n",
       "1       87500                2006              101.0                131.56   \n",
       "2       87400                1999              110.0                184.26   \n",
       "\n",
       "   consommation_energie_finale  \n",
       "0                      7133.95  \n",
       "1                      5550.00  \n",
       "2                      5656.45  "
      ]
     },
     "execution_count": 3,
     "metadata": {},
     "output_type": "execute_result"
    }
   ],
   "source": [
    "usecols = ['code_postal', 'tr002_type_batiment_id', 'annee_construction',\n",
    "       'surface_habitable', 'consommation_energie',\n",
    "       'tr006_type_usage_id','description.1', 'consommation_energie_finale']\n",
    "\n",
    "usecols = ['code_postal', 'annee_construction',\n",
    "           'surface_habitable', 'consommation_energie',\n",
    "           'consommation_energie_finale']\n",
    "\n",
    "\n",
    "\n",
    "# fonction converter pour extraire le code postal\n",
    "\n",
    "def get_code_postal(s):\n",
    "    cp = re.match('\\d{5}$', s)\n",
    "    if cp!=None:\n",
    "        return cp.group(0)\n",
    "    return '00000'\n",
    "\n",
    "# here we go \n",
    "\n",
    "df = pd.read_csv('data/dpe/DPE_GreenTech_noduplicates_yearonly.csv',\n",
    "                usecols = usecols, dtype={'surface_habitable': float},\n",
    "                sep=',', converters={0: get_code_postal})\n",
    "df.head(3)"
   ]
  },
  {
   "cell_type": "code",
   "execution_count": 3,
   "metadata": {},
   "outputs": [
    {
     "data": {
      "text/plain": [
       "(1653194, 4)"
      ]
     },
     "execution_count": 3,
     "metadata": {},
     "output_type": "execute_result"
    }
   ],
   "source": [
    "df.shape"
   ]
  },
  {
   "cell_type": "markdown",
   "metadata": {},
   "source": [
    "## Moyennes "
   ]
  },
  {
   "cell_type": "code",
   "execution_count": 4,
   "metadata": {},
   "outputs": [
    {
     "data": {
      "text/html": [
       "<div>\n",
       "<style>\n",
       "    .dataframe thead tr:only-child th {\n",
       "        text-align: right;\n",
       "    }\n",
       "\n",
       "    .dataframe thead th {\n",
       "        text-align: left;\n",
       "    }\n",
       "\n",
       "    .dataframe tbody tr th {\n",
       "        vertical-align: top;\n",
       "    }\n",
       "</style>\n",
       "<table border=\"1\" class=\"dataframe\">\n",
       "  <thead>\n",
       "    <tr>\n",
       "      <th></th>\n",
       "      <th colspan=\"2\" halign=\"left\">annee_construction</th>\n",
       "      <th colspan=\"2\" halign=\"left\">surface_habitable</th>\n",
       "      <th colspan=\"2\" halign=\"left\">consommation_energie</th>\n",
       "      <th colspan=\"2\" halign=\"left\">consommation_energie_finale</th>\n",
       "    </tr>\n",
       "    <tr>\n",
       "      <th></th>\n",
       "      <th>mean</th>\n",
       "      <th>count</th>\n",
       "      <th>mean</th>\n",
       "      <th>count</th>\n",
       "      <th>mean</th>\n",
       "      <th>count</th>\n",
       "      <th>mean</th>\n",
       "      <th>count</th>\n",
       "    </tr>\n",
       "    <tr>\n",
       "      <th>code_postal</th>\n",
       "      <th></th>\n",
       "      <th></th>\n",
       "      <th></th>\n",
       "      <th></th>\n",
       "      <th></th>\n",
       "      <th></th>\n",
       "      <th></th>\n",
       "      <th></th>\n",
       "    </tr>\n",
       "  </thead>\n",
       "  <tbody>\n",
       "    <tr>\n",
       "      <th>00000</th>\n",
       "      <td>1962.511991</td>\n",
       "      <td>6797</td>\n",
       "      <td>85.870122</td>\n",
       "      <td>6797</td>\n",
       "      <td>239.899756</td>\n",
       "      <td>6797</td>\n",
       "      <td>11907.640097</td>\n",
       "      <td>6797</td>\n",
       "    </tr>\n",
       "    <tr>\n",
       "      <th>01000</th>\n",
       "      <td>1893.678131</td>\n",
       "      <td>1541</td>\n",
       "      <td>80.199377</td>\n",
       "      <td>1541</td>\n",
       "      <td>229.300071</td>\n",
       "      <td>1541</td>\n",
       "      <td>12169.950299</td>\n",
       "      <td>1541</td>\n",
       "    </tr>\n",
       "    <tr>\n",
       "      <th>01090</th>\n",
       "      <td>1914.331461</td>\n",
       "      <td>178</td>\n",
       "      <td>114.225000</td>\n",
       "      <td>178</td>\n",
       "      <td>228.726348</td>\n",
       "      <td>178</td>\n",
       "      <td>12771.357528</td>\n",
       "      <td>178</td>\n",
       "    </tr>\n",
       "  </tbody>\n",
       "</table>\n",
       "</div>"
      ],
      "text/plain": [
       "            annee_construction       surface_habitable        \\\n",
       "                          mean count              mean count   \n",
       "code_postal                                                    \n",
       "00000              1962.511991  6797         85.870122  6797   \n",
       "01000              1893.678131  1541         80.199377  1541   \n",
       "01090              1914.331461   178        114.225000   178   \n",
       "\n",
       "            consommation_energie       consommation_energie_finale        \n",
       "                            mean count                        mean count  \n",
       "code_postal                                                               \n",
       "00000                 239.899756  6797                11907.640097  6797  \n",
       "01000                 229.300071  1541                12169.950299  1541  \n",
       "01090                 228.726348   178                12771.357528   178  "
      ]
     },
     "execution_count": 4,
     "metadata": {},
     "output_type": "execute_result"
    }
   ],
   "source": [
    "dfAvg = df\n",
    "colsAvg = ['annee_construction', 'surface_habitable', \n",
    "           'consommation_energie', 'consommation_energie_finale']\n",
    "colsGroup = ['code_postal']\n",
    "\n",
    "avg = dfAvg.groupby(colsGroup).agg(['mean', 'count'])\n",
    "avg.head(3)"
   ]
  },
  {
   "cell_type": "code",
   "execution_count": 5,
   "metadata": {
    "collapsed": true
   },
   "outputs": [],
   "source": [
    "avg = avg.reset_index()"
   ]
  },
  {
   "cell_type": "code",
   "execution_count": 6,
   "metadata": {},
   "outputs": [
    {
     "data": {
      "text/html": [
       "<div>\n",
       "<style>\n",
       "    .dataframe thead tr:only-child th {\n",
       "        text-align: right;\n",
       "    }\n",
       "\n",
       "    .dataframe thead th {\n",
       "        text-align: left;\n",
       "    }\n",
       "\n",
       "    .dataframe tbody tr th {\n",
       "        vertical-align: top;\n",
       "    }\n",
       "</style>\n",
       "<table border=\"1\" class=\"dataframe\">\n",
       "  <thead>\n",
       "    <tr>\n",
       "      <th></th>\n",
       "      <th>code_postal</th>\n",
       "      <th colspan=\"2\" halign=\"left\">annee_construction</th>\n",
       "      <th colspan=\"2\" halign=\"left\">surface_habitable</th>\n",
       "      <th colspan=\"2\" halign=\"left\">consommation_energie</th>\n",
       "      <th colspan=\"2\" halign=\"left\">consommation_energie_finale</th>\n",
       "    </tr>\n",
       "    <tr>\n",
       "      <th></th>\n",
       "      <th></th>\n",
       "      <th>mean</th>\n",
       "      <th>count</th>\n",
       "      <th>mean</th>\n",
       "      <th>count</th>\n",
       "      <th>mean</th>\n",
       "      <th>count</th>\n",
       "      <th>mean</th>\n",
       "      <th>count</th>\n",
       "    </tr>\n",
       "  </thead>\n",
       "  <tbody>\n",
       "    <tr>\n",
       "      <th>1195</th>\n",
       "      <td>21200</td>\n",
       "      <td>1959.261905</td>\n",
       "      <td>546</td>\n",
       "      <td>93.147363</td>\n",
       "      <td>546</td>\n",
       "      <td>218.985989</td>\n",
       "      <td>546</td>\n",
       "      <td>12012.525934</td>\n",
       "      <td>546</td>\n",
       "    </tr>\n",
       "  </tbody>\n",
       "</table>\n",
       "</div>"
      ],
      "text/plain": [
       "     code_postal annee_construction       surface_habitable        \\\n",
       "                               mean count              mean count   \n",
       "1195       21200        1959.261905   546         93.147363   546   \n",
       "\n",
       "     consommation_energie       consommation_energie_finale        \n",
       "                     mean count                        mean count  \n",
       "1195           218.985989   546                12012.525934   546  "
      ]
     },
     "execution_count": 6,
     "metadata": {},
     "output_type": "execute_result"
    }
   ],
   "source": [
    "avg[avg['code_postal'] == '21200']"
   ]
  },
  {
   "cell_type": "code",
   "execution_count": 7,
   "metadata": {},
   "outputs": [
    {
     "data": {
      "text/html": [
       "<div>\n",
       "<style>\n",
       "    .dataframe thead tr:only-child th {\n",
       "        text-align: right;\n",
       "    }\n",
       "\n",
       "    .dataframe thead th {\n",
       "        text-align: left;\n",
       "    }\n",
       "\n",
       "    .dataframe tbody tr th {\n",
       "        vertical-align: top;\n",
       "    }\n",
       "</style>\n",
       "<table border=\"1\" class=\"dataframe\">\n",
       "  <thead>\n",
       "    <tr>\n",
       "      <th></th>\n",
       "      <th>code_postal</th>\n",
       "      <th colspan=\"2\" halign=\"left\">annee_construction</th>\n",
       "      <th colspan=\"2\" halign=\"left\">surface_habitable</th>\n",
       "      <th colspan=\"2\" halign=\"left\">consommation_energie</th>\n",
       "      <th colspan=\"2\" halign=\"left\">consommation_energie_finale</th>\n",
       "    </tr>\n",
       "    <tr>\n",
       "      <th></th>\n",
       "      <th></th>\n",
       "      <th>mean</th>\n",
       "      <th>count</th>\n",
       "      <th>mean</th>\n",
       "      <th>count</th>\n",
       "      <th>mean</th>\n",
       "      <th>count</th>\n",
       "      <th>mean</th>\n",
       "      <th>count</th>\n",
       "    </tr>\n",
       "  </thead>\n",
       "  <tbody>\n",
       "    <tr>\n",
       "      <th>1184</th>\n",
       "      <td>21000</td>\n",
       "      <td>1924.9079</td>\n",
       "      <td>5342</td>\n",
       "      <td>64.6502</td>\n",
       "      <td>5342</td>\n",
       "      <td>234.000541</td>\n",
       "      <td>5342</td>\n",
       "      <td>15588.397074</td>\n",
       "      <td>5342</td>\n",
       "    </tr>\n",
       "  </tbody>\n",
       "</table>\n",
       "</div>"
      ],
      "text/plain": [
       "     code_postal annee_construction       surface_habitable        \\\n",
       "                               mean count              mean count   \n",
       "1184       21000          1924.9079  5342           64.6502  5342   \n",
       "\n",
       "     consommation_energie       consommation_energie_finale        \n",
       "                     mean count                        mean count  \n",
       "1184           234.000541  5342                15588.397074  5342  "
      ]
     },
     "execution_count": 7,
     "metadata": {},
     "output_type": "execute_result"
    }
   ],
   "source": [
    "avg[avg['code_postal'] == '21000']"
   ]
  },
  {
   "cell_type": "code",
   "execution_count": 8,
   "metadata": {},
   "outputs": [
    {
     "data": {
      "text/html": [
       "<div>\n",
       "<style>\n",
       "    .dataframe thead tr:only-child th {\n",
       "        text-align: right;\n",
       "    }\n",
       "\n",
       "    .dataframe thead th {\n",
       "        text-align: left;\n",
       "    }\n",
       "\n",
       "    .dataframe tbody tr th {\n",
       "        vertical-align: top;\n",
       "    }\n",
       "</style>\n",
       "<table border=\"1\" class=\"dataframe\">\n",
       "  <thead>\n",
       "    <tr style=\"text-align: right;\">\n",
       "      <th></th>\n",
       "      <th>code_postal</th>\n",
       "      <th>annee_construction</th>\n",
       "      <th>annee_construction</th>\n",
       "      <th>surface_habitable</th>\n",
       "      <th>surface_habitable</th>\n",
       "      <th>consommation_energie</th>\n",
       "      <th>consommation_energie</th>\n",
       "      <th>consommation_energie_finale</th>\n",
       "      <th>consommation_energie_finale</th>\n",
       "    </tr>\n",
       "  </thead>\n",
       "  <tbody>\n",
       "    <tr>\n",
       "      <th>0</th>\n",
       "      <td>00000</td>\n",
       "      <td>1962.511991</td>\n",
       "      <td>6797</td>\n",
       "      <td>85.870122</td>\n",
       "      <td>6797</td>\n",
       "      <td>239.899756</td>\n",
       "      <td>6797</td>\n",
       "      <td>11907.640097</td>\n",
       "      <td>6797</td>\n",
       "    </tr>\n",
       "    <tr>\n",
       "      <th>1</th>\n",
       "      <td>01000</td>\n",
       "      <td>1893.678131</td>\n",
       "      <td>1541</td>\n",
       "      <td>80.199377</td>\n",
       "      <td>1541</td>\n",
       "      <td>229.300071</td>\n",
       "      <td>1541</td>\n",
       "      <td>12169.950299</td>\n",
       "      <td>1541</td>\n",
       "    </tr>\n",
       "    <tr>\n",
       "      <th>2</th>\n",
       "      <td>01090</td>\n",
       "      <td>1914.331461</td>\n",
       "      <td>178</td>\n",
       "      <td>114.225000</td>\n",
       "      <td>178</td>\n",
       "      <td>228.726348</td>\n",
       "      <td>178</td>\n",
       "      <td>12771.357528</td>\n",
       "      <td>178</td>\n",
       "    </tr>\n",
       "  </tbody>\n",
       "</table>\n",
       "</div>"
      ],
      "text/plain": [
       "  code_postal  annee_construction  annee_construction  surface_habitable  \\\n",
       "0       00000         1962.511991                6797          85.870122   \n",
       "1       01000         1893.678131                1541          80.199377   \n",
       "2       01090         1914.331461                 178         114.225000   \n",
       "\n",
       "   surface_habitable  consommation_energie  consommation_energie  \\\n",
       "0               6797            239.899756                  6797   \n",
       "1               1541            229.300071                  1541   \n",
       "2                178            228.726348                   178   \n",
       "\n",
       "   consommation_energie_finale  consommation_energie_finale  \n",
       "0                 11907.640097                         6797  \n",
       "1                 12169.950299                         1541  \n",
       "2                 12771.357528                          178  "
      ]
     },
     "execution_count": 8,
     "metadata": {},
     "output_type": "execute_result"
    }
   ],
   "source": [
    "# aplatir l'imbrication des colonnes \n",
    "avg.columns = avg.columns.get_level_values(0)\n",
    "avg.head(3)"
   ]
  },
  {
   "cell_type": "code",
   "execution_count": 9,
   "metadata": {},
   "outputs": [
    {
     "data": {
      "text/html": [
       "<div>\n",
       "<style>\n",
       "    .dataframe thead tr:only-child th {\n",
       "        text-align: right;\n",
       "    }\n",
       "\n",
       "    .dataframe thead th {\n",
       "        text-align: left;\n",
       "    }\n",
       "\n",
       "    .dataframe tbody tr th {\n",
       "        vertical-align: top;\n",
       "    }\n",
       "</style>\n",
       "<table border=\"1\" class=\"dataframe\">\n",
       "  <thead>\n",
       "    <tr style=\"text-align: right;\">\n",
       "      <th></th>\n",
       "      <th>code_postal</th>\n",
       "      <th>annee_m</th>\n",
       "      <th>annee_c</th>\n",
       "      <th>surface_m</th>\n",
       "      <th>surface_c</th>\n",
       "      <th>conso_m</th>\n",
       "      <th>conso_c</th>\n",
       "      <th>conso_tot_m</th>\n",
       "      <th>conso_tot_c</th>\n",
       "    </tr>\n",
       "  </thead>\n",
       "  <tbody>\n",
       "    <tr>\n",
       "      <th>0</th>\n",
       "      <td>00000</td>\n",
       "      <td>1962.511991</td>\n",
       "      <td>6797</td>\n",
       "      <td>85.870122</td>\n",
       "      <td>6797</td>\n",
       "      <td>239.899756</td>\n",
       "      <td>6797</td>\n",
       "      <td>11907.640097</td>\n",
       "      <td>6797</td>\n",
       "    </tr>\n",
       "    <tr>\n",
       "      <th>1</th>\n",
       "      <td>01000</td>\n",
       "      <td>1893.678131</td>\n",
       "      <td>1541</td>\n",
       "      <td>80.199377</td>\n",
       "      <td>1541</td>\n",
       "      <td>229.300071</td>\n",
       "      <td>1541</td>\n",
       "      <td>12169.950299</td>\n",
       "      <td>1541</td>\n",
       "    </tr>\n",
       "    <tr>\n",
       "      <th>2</th>\n",
       "      <td>01090</td>\n",
       "      <td>1914.331461</td>\n",
       "      <td>178</td>\n",
       "      <td>114.225000</td>\n",
       "      <td>178</td>\n",
       "      <td>228.726348</td>\n",
       "      <td>178</td>\n",
       "      <td>12771.357528</td>\n",
       "      <td>178</td>\n",
       "    </tr>\n",
       "  </tbody>\n",
       "</table>\n",
       "</div>"
      ],
      "text/plain": [
       "  code_postal      annee_m  annee_c   surface_m  surface_c     conso_m  \\\n",
       "0       00000  1962.511991     6797   85.870122       6797  239.899756   \n",
       "1       01000  1893.678131     1541   80.199377       1541  229.300071   \n",
       "2       01090  1914.331461      178  114.225000        178  228.726348   \n",
       "\n",
       "   conso_c   conso_tot_m  conso_tot_c  \n",
       "0     6797  11907.640097         6797  \n",
       "1     1541  12169.950299         1541  \n",
       "2      178  12771.357528          178  "
      ]
     },
     "execution_count": 9,
     "metadata": {},
     "output_type": "execute_result"
    }
   ],
   "source": [
    "avg.columns = ['code_postal', 'annee_m', 'annee_c', \n",
    "               'surface_m', 'surface_c', 'conso_m', 'conso_c', \n",
    "               'conso_tot_m', 'conso_tot_c']\n",
    "avg.head(3)"
   ]
  },
  {
   "cell_type": "markdown",
   "metadata": {},
   "source": [
    "## to SQL"
   ]
  },
  {
   "cell_type": "code",
   "execution_count": 10,
   "metadata": {
    "collapsed": true
   },
   "outputs": [],
   "source": [
    "import pymysql.cursors\n",
    "\n",
    "connection = pymysql.connect( host='localhost',\n",
    "                              user='root',\n",
    "                              passwd='root',\n",
    "                              db='energie',\n",
    "                              charset='utf8mb4',\n",
    "                              cursorclass=pymysql.cursors.DictCursor)\n",
    "\n",
    "cursor = connection.cursor()"
   ]
  },
  {
   "cell_type": "code",
   "execution_count": 11,
   "metadata": {
    "collapsed": true
   },
   "outputs": [],
   "source": [
    "avg = avg.fillna('')"
   ]
  },
  {
   "cell_type": "code",
   "execution_count": 13,
   "metadata": {
    "collapsed": true
   },
   "outputs": [],
   "source": [
    "# fillna(' ')\n",
    "# read_csv dtype str\n",
    "# limiter la taille de la chaine envoyée[:n]\n",
    "# code_postal\tannee_construction\tconsommation_energie\tconsommation_energie_finale\n",
    "\n",
    "with connection.cursor() as cursor:\n",
    "    \n",
    "    sql = (\"INSERT INTO dpe_avg \"\n",
    "           \" ( cp, annee, conso_m2, nb_dpe, surface, conso_totale)\"\n",
    "           \"VALUES (%s, %s, %s, %s, %s, %s)\"\n",
    "          )\n",
    "\n",
    "    for i, r in avg.iterrows():\n",
    "        cp = str(r['code_postal']) + ''\n",
    "        an = str(r['annee_m']) + ''\n",
    "        m2 = str(r['conso_m']) + ''\n",
    "        cm = str(r['conso_c']) + '' # count \n",
    "        su = str(r['surface_m']) + ''\n",
    "        ct = str(r['conso_tot_m']) + ''\n",
    "        cursor.execute(sql, \n",
    "                       (cp[:6], \n",
    "                        an[:4], \n",
    "                        m2[:10], \n",
    "                        cm[:10], \n",
    "                        su[:10], \n",
    "                        ct[:10])\n",
    "                      )\n",
    "\n",
    "connection.commit() "
   ]
  },
  {
   "cell_type": "code",
   "execution_count": 31,
   "metadata": {},
   "outputs": [
    {
     "data": {
      "text/plain": [
       "'cons'"
      ]
     },
     "execution_count": 31,
     "metadata": {},
     "output_type": "execute_result"
    }
   ],
   "source": [
    "columns = 'consommation_energie_finale'\n",
    "columns[:4]"
   ]
  },
  {
   "cell_type": "code",
   "execution_count": null,
   "metadata": {
    "collapsed": true
   },
   "outputs": [],
   "source": []
  }
 ],
 "metadata": {
  "kernelspec": {
   "display_name": "Python 3",
   "language": "python",
   "name": "python3"
  },
  "language_info": {
   "codemirror_mode": {
    "name": "ipython",
    "version": 3
   },
   "file_extension": ".py",
   "mimetype": "text/x-python",
   "name": "python",
   "nbconvert_exporter": "python",
   "pygments_lexer": "ipython3",
   "version": "3.6.1"
  }
 },
 "nbformat": 4,
 "nbformat_minor": 2
}
