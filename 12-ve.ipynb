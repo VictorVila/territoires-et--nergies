{
 "cells": [
  {
   "cell_type": "markdown",
   "metadata": {},
   "source": [
    "# Points de recharge pour véhicule électrique\n",
    "\n",
    "Fichier consolidé des Bornes de Recharge pour Véhicules Électriques\n",
    "\n",
    "* https://www.data.gouv.fr/fr/datasets/fichier-consolide-des-bornes-de-recharge-pour-vehicules-electriques/"
   ]
  },
  {
   "cell_type": "code",
   "execution_count": 1,
   "metadata": {},
   "outputs": [],
   "source": [
    "import pandas as pd \n",
    "import re"
   ]
  },
  {
   "cell_type": "code",
   "execution_count": 2,
   "metadata": {},
   "outputs": [],
   "source": [
    "usecols = ['n_station', 'ad_station', 'code_insee', 'Xlongitude', 'Ylatitude', 'nbre_pdc',\n",
    "       'puiss_max', 'type_prise', 'accessibilité' ] "
   ]
  },
  {
   "cell_type": "code",
   "execution_count": 3,
   "metadata": {},
   "outputs": [
    {
     "data": {
      "text/html": [
       "<div>\n",
       "<style scoped>\n",
       "    .dataframe tbody tr th:only-of-type {\n",
       "        vertical-align: middle;\n",
       "    }\n",
       "\n",
       "    .dataframe tbody tr th {\n",
       "        vertical-align: top;\n",
       "    }\n",
       "\n",
       "    .dataframe thead th {\n",
       "        text-align: right;\n",
       "    }\n",
       "</style>\n",
       "<table border=\"1\" class=\"dataframe\">\n",
       "  <thead>\n",
       "    <tr style=\"text-align: right;\">\n",
       "      <th></th>\n",
       "      <th>n_station</th>\n",
       "      <th>ad_station</th>\n",
       "      <th>code_insee</th>\n",
       "      <th>Xlongitude</th>\n",
       "      <th>Ylatitude</th>\n",
       "      <th>nbre_pdc</th>\n",
       "      <th>puiss_max</th>\n",
       "      <th>type_prise</th>\n",
       "      <th>accessibilité</th>\n",
       "    </tr>\n",
       "  </thead>\n",
       "  <tbody>\n",
       "    <tr>\n",
       "      <th>0</th>\n",
       "      <td>CASSIS - Parking Savon</td>\n",
       "      <td>Parking Savon 13260 CASSIS</td>\n",
       "      <td>13022</td>\n",
       "      <td>5.53811</td>\n",
       "      <td>43.213528</td>\n",
       "      <td>6</td>\n",
       "      <td>4</td>\n",
       "      <td>EF</td>\n",
       "      <td>24h/24 7j/7</td>\n",
       "    </tr>\n",
       "    <tr>\n",
       "      <th>1</th>\n",
       "      <td>MARSEILLE - Parking Technoptic</td>\n",
       "      <td>Parking Technoptic 13000 MARSEILLE</td>\n",
       "      <td>13055</td>\n",
       "      <td>5.431385</td>\n",
       "      <td>43.344402</td>\n",
       "      <td>4</td>\n",
       "      <td>4</td>\n",
       "      <td>EF</td>\n",
       "      <td>24h/24 7j/7</td>\n",
       "    </tr>\n",
       "    <tr>\n",
       "      <th>2</th>\n",
       "      <td>SALON-DE-PROVENCE - Rue André Marie Ampère</td>\n",
       "      <td>Rue André Marie Ampère 0 SALON-DE-PROVENCE</td>\n",
       "      <td>13103</td>\n",
       "      <td>5.107927</td>\n",
       "      <td>43.639222</td>\n",
       "      <td>2</td>\n",
       "      <td>22</td>\n",
       "      <td>EF - T2</td>\n",
       "      <td>24h/24 7j/7</td>\n",
       "    </tr>\n",
       "  </tbody>\n",
       "</table>\n",
       "</div>"
      ],
      "text/plain": [
       "                                    n_station  \\\n",
       "0                      CASSIS - Parking Savon   \n",
       "1              MARSEILLE - Parking Technoptic   \n",
       "2  SALON-DE-PROVENCE - Rue André Marie Ampère   \n",
       "\n",
       "                                   ad_station code_insee Xlongitude  \\\n",
       "0                  Parking Savon 13260 CASSIS      13022    5.53811   \n",
       "1          Parking Technoptic 13000 MARSEILLE      13055   5.431385   \n",
       "2  Rue André Marie Ampère 0 SALON-DE-PROVENCE      13103   5.107927   \n",
       "\n",
       "   Ylatitude nbre_pdc puiss_max type_prise accessibilité  \n",
       "0  43.213528        6         4         EF   24h/24 7j/7  \n",
       "1  43.344402        4         4         EF   24h/24 7j/7  \n",
       "2  43.639222        2        22    EF - T2   24h/24 7j/7  "
      ]
     },
     "execution_count": 3,
     "metadata": {},
     "output_type": "execute_result"
    }
   ],
   "source": [
    "df = pd.read_csv('data/irve/bornes-irve-20191120.csv', \n",
    "                 sep=';', usecols=usecols, dtype=str )\n",
    "df.head(3)"
   ]
  },
  {
   "cell_type": "code",
   "execution_count": 4,
   "metadata": {},
   "outputs": [
    {
     "data": {
      "text/plain": [
       "(10078, 9)"
      ]
     },
     "execution_count": 4,
     "metadata": {},
     "output_type": "execute_result"
    }
   ],
   "source": [
    "df.shape"
   ]
  },
  {
   "cell_type": "code",
   "execution_count": 5,
   "metadata": {},
   "outputs": [
    {
     "data": {
      "text/plain": [
       "(6404, 9)"
      ]
     },
     "execution_count": 5,
     "metadata": {},
     "output_type": "execute_result"
    }
   ],
   "source": [
    "df = df.drop_duplicates()\n",
    "df.shape"
   ]
  },
  {
   "cell_type": "code",
   "execution_count": 6,
   "metadata": {},
   "outputs": [
    {
     "data": {
      "text/html": [
       "<div>\n",
       "<style scoped>\n",
       "    .dataframe tbody tr th:only-of-type {\n",
       "        vertical-align: middle;\n",
       "    }\n",
       "\n",
       "    .dataframe tbody tr th {\n",
       "        vertical-align: top;\n",
       "    }\n",
       "\n",
       "    .dataframe thead th {\n",
       "        text-align: right;\n",
       "    }\n",
       "</style>\n",
       "<table border=\"1\" class=\"dataframe\">\n",
       "  <thead>\n",
       "    <tr style=\"text-align: right;\">\n",
       "      <th></th>\n",
       "      <th>n_station</th>\n",
       "      <th>ad_station</th>\n",
       "      <th>code_insee</th>\n",
       "      <th>Xlongitude</th>\n",
       "      <th>Ylatitude</th>\n",
       "      <th>nbre_pdc</th>\n",
       "      <th>puiss_max</th>\n",
       "      <th>type_prise</th>\n",
       "      <th>accessibilité</th>\n",
       "    </tr>\n",
       "  </thead>\n",
       "  <tbody>\n",
       "    <tr>\n",
       "      <th>10075</th>\n",
       "      <td>VIC-SUR-CERE - Rue Du 19 Mars 1962</td>\n",
       "      <td>Rue Du 19 Mars 1962 15800 VIC-SUR-CERE</td>\n",
       "      <td>15258</td>\n",
       "      <td>2.626218</td>\n",
       "      <td>44.978116</td>\n",
       "      <td>4</td>\n",
       "      <td>4</td>\n",
       "      <td>EF</td>\n",
       "      <td>24h/24 7j/7</td>\n",
       "    </tr>\n",
       "    <tr>\n",
       "      <th>10076</th>\n",
       "      <td>VIC-SUR-CERE - Rue Du 19 Mars 1962</td>\n",
       "      <td>Rue Du 19 Mars 1962 15800 VIC-SUR-CERE</td>\n",
       "      <td>15258</td>\n",
       "      <td>2.626218</td>\n",
       "      <td>44.978116</td>\n",
       "      <td>4</td>\n",
       "      <td>50</td>\n",
       "      <td>CHADEMO</td>\n",
       "      <td>24h/24 7j/7</td>\n",
       "    </tr>\n",
       "    <tr>\n",
       "      <th>10077</th>\n",
       "      <td>VIC-SUR-CERE - Rue Du 19 Mars 1962</td>\n",
       "      <td>Rue Du 19 Mars 1962 15800 VIC-SUR-CERE</td>\n",
       "      <td>15258</td>\n",
       "      <td>2.626218</td>\n",
       "      <td>44.978116</td>\n",
       "      <td>4</td>\n",
       "      <td>50</td>\n",
       "      <td>COMBO</td>\n",
       "      <td>24h/24 7j/7</td>\n",
       "    </tr>\n",
       "  </tbody>\n",
       "</table>\n",
       "</div>"
      ],
      "text/plain": [
       "                                n_station  \\\n",
       "10075  VIC-SUR-CERE - Rue Du 19 Mars 1962   \n",
       "10076  VIC-SUR-CERE - Rue Du 19 Mars 1962   \n",
       "10077  VIC-SUR-CERE - Rue Du 19 Mars 1962   \n",
       "\n",
       "                                   ad_station code_insee Xlongitude  \\\n",
       "10075  Rue Du 19 Mars 1962 15800 VIC-SUR-CERE      15258   2.626218   \n",
       "10076  Rue Du 19 Mars 1962 15800 VIC-SUR-CERE      15258   2.626218   \n",
       "10077  Rue Du 19 Mars 1962 15800 VIC-SUR-CERE      15258   2.626218   \n",
       "\n",
       "       Ylatitude nbre_pdc puiss_max type_prise accessibilité  \n",
       "10075  44.978116        4         4         EF   24h/24 7j/7  \n",
       "10076  44.978116        4        50    CHADEMO   24h/24 7j/7  \n",
       "10077  44.978116        4        50      COMBO   24h/24 7j/7  "
      ]
     },
     "execution_count": 6,
     "metadata": {},
     "output_type": "execute_result"
    }
   ],
   "source": [
    "df.tail(3)"
   ]
  },
  {
   "cell_type": "markdown",
   "metadata": {},
   "source": [
    "## Limpar ficheiro de multiples fontes (e encodaxes)\n",
    "\n",
    "Limitalos caractères aceptados : \n",
    "* Os primeiros ASCII, do 0 au 7f \n",
    "* O caracter c4 (Ä) : senon erro mysql (???????)\n",
    "* Os acentuados \n",
    "\n",
    "```\n",
    "df2 = df.replace({r'[^\\x00-\\x7F\\xC4àäâéèêëïîöôüû]+': '_'}, regex=True)\n",
    "```\n",
    "\n",
    "Enchelos NaN pra evitalo erro mysql 'na column not found'\n",
    "```\n",
    "df2=df2.fillna('') ```\n"
   ]
  },
  {
   "cell_type": "code",
   "execution_count": 7,
   "metadata": {},
   "outputs": [
    {
     "data": {
      "text/plain": [
       "(6404, 9)"
      ]
     },
     "execution_count": 7,
     "metadata": {},
     "output_type": "execute_result"
    }
   ],
   "source": [
    "#https://www.codetable.net/asciikeycodesû\n",
    "df2 = df.replace({r'[^\\x00-\\x7F\\xC4àäâéèêëïîöôüû]+': '_'}, regex=True) \n",
    "df2=df2.fillna('')  \n",
    "df2.shape"
   ]
  },
  {
   "cell_type": "code",
   "execution_count": 8,
   "metadata": {},
   "outputs": [
    {
     "data": {
      "text/html": [
       "<div>\n",
       "<style scoped>\n",
       "    .dataframe tbody tr th:only-of-type {\n",
       "        vertical-align: middle;\n",
       "    }\n",
       "\n",
       "    .dataframe tbody tr th {\n",
       "        vertical-align: top;\n",
       "    }\n",
       "\n",
       "    .dataframe thead th {\n",
       "        text-align: right;\n",
       "    }\n",
       "</style>\n",
       "<table border=\"1\" class=\"dataframe\">\n",
       "  <thead>\n",
       "    <tr style=\"text-align: right;\">\n",
       "      <th></th>\n",
       "      <th>n_station</th>\n",
       "      <th>ad_station</th>\n",
       "      <th>code_insee</th>\n",
       "      <th>Xlongitude</th>\n",
       "      <th>Ylatitude</th>\n",
       "      <th>nbre_pdc</th>\n",
       "      <th>puiss_max</th>\n",
       "      <th>type_prise</th>\n",
       "      <th>accessibilité</th>\n",
       "    </tr>\n",
       "  </thead>\n",
       "  <tbody>\n",
       "    <tr>\n",
       "      <th>0</th>\n",
       "      <td>CASSIS - Parking Savon</td>\n",
       "      <td>Parking Savon 13260 CASSIS</td>\n",
       "      <td>13022</td>\n",
       "      <td>5.53811</td>\n",
       "      <td>43.213528</td>\n",
       "      <td>6</td>\n",
       "      <td>4</td>\n",
       "      <td>EF</td>\n",
       "      <td>24h/24 7j/7</td>\n",
       "    </tr>\n",
       "    <tr>\n",
       "      <th>1</th>\n",
       "      <td>MARSEILLE - Parking Technoptic</td>\n",
       "      <td>Parking Technoptic 13000 MARSEILLE</td>\n",
       "      <td>13055</td>\n",
       "      <td>5.431385</td>\n",
       "      <td>43.344402</td>\n",
       "      <td>4</td>\n",
       "      <td>4</td>\n",
       "      <td>EF</td>\n",
       "      <td>24h/24 7j/7</td>\n",
       "    </tr>\n",
       "    <tr>\n",
       "      <th>2</th>\n",
       "      <td>SALON-DE-PROVENCE - Rue André Marie Ampère</td>\n",
       "      <td>Rue André Marie Ampère 0 SALON-DE-PROVENCE</td>\n",
       "      <td>13103</td>\n",
       "      <td>5.107927</td>\n",
       "      <td>43.639222</td>\n",
       "      <td>2</td>\n",
       "      <td>22</td>\n",
       "      <td>EF - T2</td>\n",
       "      <td>24h/24 7j/7</td>\n",
       "    </tr>\n",
       "    <tr>\n",
       "      <th>3</th>\n",
       "      <td>CORNILLON-CONFOUX - Rue Des Ferrages</td>\n",
       "      <td>Rue Des Ferrages 13250 CORNILLON-CONFOUX</td>\n",
       "      <td>13029</td>\n",
       "      <td>5.071913</td>\n",
       "      <td>43.565413</td>\n",
       "      <td>2</td>\n",
       "      <td>22</td>\n",
       "      <td>EF - T2</td>\n",
       "      <td>24h/24 7j/7</td>\n",
       "    </tr>\n",
       "    <tr>\n",
       "      <th>4</th>\n",
       "      <td>MARSEILLE - Parking Relais Einstein</td>\n",
       "      <td>Parking Relais Einstein 13000 MARSEILLE</td>\n",
       "      <td>13055</td>\n",
       "      <td>5.448569</td>\n",
       "      <td>43.345406</td>\n",
       "      <td>2</td>\n",
       "      <td>4</td>\n",
       "      <td>EF</td>\n",
       "      <td>24h/24 7j/7</td>\n",
       "    </tr>\n",
       "  </tbody>\n",
       "</table>\n",
       "</div>"
      ],
      "text/plain": [
       "                                    n_station  \\\n",
       "0                      CASSIS - Parking Savon   \n",
       "1              MARSEILLE - Parking Technoptic   \n",
       "2  SALON-DE-PROVENCE - Rue André Marie Ampère   \n",
       "3        CORNILLON-CONFOUX - Rue Des Ferrages   \n",
       "4         MARSEILLE - Parking Relais Einstein   \n",
       "\n",
       "                                   ad_station code_insee Xlongitude  \\\n",
       "0                  Parking Savon 13260 CASSIS      13022    5.53811   \n",
       "1          Parking Technoptic 13000 MARSEILLE      13055   5.431385   \n",
       "2  Rue André Marie Ampère 0 SALON-DE-PROVENCE      13103   5.107927   \n",
       "3    Rue Des Ferrages 13250 CORNILLON-CONFOUX      13029   5.071913   \n",
       "4     Parking Relais Einstein 13000 MARSEILLE      13055   5.448569   \n",
       "\n",
       "   Ylatitude nbre_pdc puiss_max type_prise accessibilité  \n",
       "0  43.213528        6         4         EF   24h/24 7j/7  \n",
       "1  43.344402        4         4         EF   24h/24 7j/7  \n",
       "2  43.639222        2        22    EF - T2   24h/24 7j/7  \n",
       "3  43.565413        2        22    EF - T2   24h/24 7j/7  \n",
       "4  43.345406        2         4         EF   24h/24 7j/7  "
      ]
     },
     "execution_count": 8,
     "metadata": {},
     "output_type": "execute_result"
    }
   ],
   "source": [
    "df2.head()"
   ]
  },
  {
   "cell_type": "markdown",
   "metadata": {},
   "source": [
    "### EPCI"
   ]
  },
  {
   "cell_type": "code",
   "execution_count": 9,
   "metadata": {},
   "outputs": [],
   "source": [
    "import pymysql.cursors\n",
    "\n",
    "connection = pymysql.connect( host='localhost',\n",
    "                              user='root',\n",
    "                              passwd='123',\n",
    "                              db='energie',\n",
    "                              charset='utf8mb4',\n",
    "                              cursorclass=pymysql.cursors.DictCursor)\n",
    "\n",
    "cursor = connection.cursor()"
   ]
  },
  {
   "cell_type": "code",
   "execution_count": 10,
   "metadata": {},
   "outputs": [],
   "source": [
    "epci_data = pd.read_csv('data/insee/communes_cp_insee_epci_geo.csv', dtype=str)\n",
    "epci_data = epci_data.drop_duplicates()"
   ]
  },
  {
   "cell_type": "code",
   "execution_count": 11,
   "metadata": {
    "scrolled": true
   },
   "outputs": [],
   "source": [
    "#epci \n",
    "\n",
    "epci = pd.merge(df2, epci_data, how='left', left_on=\"code_insee\", right_on='codgeo')"
   ]
  },
  {
   "cell_type": "code",
   "execution_count": 12,
   "metadata": {},
   "outputs": [],
   "source": [
    "epci =epci.fillna('')"
   ]
  },
  {
   "cell_type": "code",
   "execution_count": 13,
   "metadata": {},
   "outputs": [
    {
     "data": {
      "text/plain": [
       "(6900, 17)"
      ]
     },
     "execution_count": 13,
     "metadata": {},
     "output_type": "execute_result"
    }
   ],
   "source": [
    "epci.shape"
   ]
  },
  {
   "cell_type": "code",
   "execution_count": 14,
   "metadata": {},
   "outputs": [
    {
     "data": {
      "text/html": [
       "<div>\n",
       "<style scoped>\n",
       "    .dataframe tbody tr th:only-of-type {\n",
       "        vertical-align: middle;\n",
       "    }\n",
       "\n",
       "    .dataframe tbody tr th {\n",
       "        vertical-align: top;\n",
       "    }\n",
       "\n",
       "    .dataframe thead th {\n",
       "        text-align: right;\n",
       "    }\n",
       "</style>\n",
       "<table border=\"1\" class=\"dataframe\">\n",
       "  <thead>\n",
       "    <tr style=\"text-align: right;\">\n",
       "      <th></th>\n",
       "      <th>n_station</th>\n",
       "      <th>ad_station</th>\n",
       "      <th>code_insee</th>\n",
       "      <th>Xlongitude</th>\n",
       "      <th>Ylatitude</th>\n",
       "      <th>nbre_pdc</th>\n",
       "      <th>puiss_max</th>\n",
       "      <th>type_prise</th>\n",
       "      <th>accessibilité</th>\n",
       "      <th>codepostal</th>\n",
       "      <th>coordonnees_gps</th>\n",
       "      <th>codgeo</th>\n",
       "      <th>libcommune</th>\n",
       "      <th>epci</th>\n",
       "      <th>libepci</th>\n",
       "      <th>dep</th>\n",
       "      <th>reg</th>\n",
       "    </tr>\n",
       "  </thead>\n",
       "  <tbody>\n",
       "    <tr>\n",
       "      <th>0</th>\n",
       "      <td>CASSIS - Parking Savon</td>\n",
       "      <td>Parking Savon 13260 CASSIS</td>\n",
       "      <td>13022</td>\n",
       "      <td>5.53811</td>\n",
       "      <td>43.213528</td>\n",
       "      <td>6</td>\n",
       "      <td>4</td>\n",
       "      <td>EF</td>\n",
       "      <td>24h/24 7j/7</td>\n",
       "      <td>13260</td>\n",
       "      <td>43.2230470065,5.55117810991</td>\n",
       "      <td>13022</td>\n",
       "      <td>Cassis</td>\n",
       "      <td>200054807</td>\n",
       "      <td>Métropole d'Aix-Marseille-Provence</td>\n",
       "      <td>13</td>\n",
       "      <td>93</td>\n",
       "    </tr>\n",
       "    <tr>\n",
       "      <th>1</th>\n",
       "      <td>MARSEILLE - Parking Technoptic</td>\n",
       "      <td>Parking Technoptic 13000 MARSEILLE</td>\n",
       "      <td>13055</td>\n",
       "      <td>5.431385</td>\n",
       "      <td>43.344402</td>\n",
       "      <td>4</td>\n",
       "      <td>4</td>\n",
       "      <td>EF</td>\n",
       "      <td>24h/24 7j/7</td>\n",
       "      <td></td>\n",
       "      <td></td>\n",
       "      <td></td>\n",
       "      <td></td>\n",
       "      <td></td>\n",
       "      <td></td>\n",
       "      <td></td>\n",
       "      <td></td>\n",
       "    </tr>\n",
       "    <tr>\n",
       "      <th>2</th>\n",
       "      <td>SALON-DE-PROVENCE - Rue André Marie Ampère</td>\n",
       "      <td>Rue André Marie Ampère 0 SALON-DE-PROVENCE</td>\n",
       "      <td>13103</td>\n",
       "      <td>5.107927</td>\n",
       "      <td>43.639222</td>\n",
       "      <td>2</td>\n",
       "      <td>22</td>\n",
       "      <td>EF - T2</td>\n",
       "      <td>24h/24 7j/7</td>\n",
       "      <td>13300</td>\n",
       "      <td>43.6462885238,5.06814649576</td>\n",
       "      <td>13103</td>\n",
       "      <td>Salon-de-Provence</td>\n",
       "      <td>200054807</td>\n",
       "      <td>Métropole d'Aix-Marseille-Provence</td>\n",
       "      <td>13</td>\n",
       "      <td>93</td>\n",
       "    </tr>\n",
       "  </tbody>\n",
       "</table>\n",
       "</div>"
      ],
      "text/plain": [
       "                                    n_station  \\\n",
       "0                      CASSIS - Parking Savon   \n",
       "1              MARSEILLE - Parking Technoptic   \n",
       "2  SALON-DE-PROVENCE - Rue André Marie Ampère   \n",
       "\n",
       "                                   ad_station code_insee Xlongitude  \\\n",
       "0                  Parking Savon 13260 CASSIS      13022    5.53811   \n",
       "1          Parking Technoptic 13000 MARSEILLE      13055   5.431385   \n",
       "2  Rue André Marie Ampère 0 SALON-DE-PROVENCE      13103   5.107927   \n",
       "\n",
       "   Ylatitude nbre_pdc puiss_max type_prise accessibilité codepostal  \\\n",
       "0  43.213528        6         4         EF   24h/24 7j/7      13260   \n",
       "1  43.344402        4         4         EF   24h/24 7j/7              \n",
       "2  43.639222        2        22    EF - T2   24h/24 7j/7      13300   \n",
       "\n",
       "               coordonnees_gps codgeo         libcommune       epci  \\\n",
       "0  43.2230470065,5.55117810991  13022             Cassis  200054807   \n",
       "1                                                                     \n",
       "2  43.6462885238,5.06814649576  13103  Salon-de-Provence  200054807   \n",
       "\n",
       "                              libepci dep reg  \n",
       "0  Métropole d'Aix-Marseille-Provence  13  93  \n",
       "1                                              \n",
       "2  Métropole d'Aix-Marseille-Provence  13  93  "
      ]
     },
     "execution_count": 14,
     "metadata": {},
     "output_type": "execute_result"
    }
   ],
   "source": [
    "epci.head(3)"
   ]
  },
  {
   "cell_type": "code",
   "execution_count": 15,
   "metadata": {},
   "outputs": [],
   "source": [
    "epci2 = epci.drop(['codepostal', 'coordonnees_gps', 'codgeo', 'libcommune', 'dep', 'reg'], axis=1)"
   ]
  },
  {
   "cell_type": "code",
   "execution_count": 16,
   "metadata": {},
   "outputs": [
    {
     "name": "stdout",
     "output_type": "stream",
     "text": [
      "INSERT INTO `recharge` (n_station, ad_station, code_insee, epci, Xlongitude, Ylatitude,  nbre_pdc, puiss_max, type_prise, accessibilite) VALUES (%s, %s, %s, %s, %s, %s,  %s, %s, %s, %s)\n"
     ]
    }
   ],
   "source": [
    "# Insertion BDD \n",
    "\n",
    "with connection.cursor() as cursor:\n",
    "    \n",
    "    sql = (\"INSERT INTO `recharge` \"\n",
    "           \"(n_station, ad_station, code_insee, epci, Xlongitude, Ylatitude, \"\n",
    "           \" nbre_pdc, puiss_max, type_prise, accessibilite)\"\n",
    "           \" VALUES (%s, %s, %s, %s, %s, %s, \"\n",
    "           \" %s, %s, %s, %s)\"\n",
    "          )\n",
    "    print(sql)\n",
    "    \n",
    "    for i, r in epci2.iterrows():\n",
    "        cursor.execute(sql, \n",
    "            (\n",
    "            r['n_station'],\n",
    "            r['ad_station'],\n",
    "            r['code_insee'],\n",
    "            r['epci'],\n",
    "            r['Xlongitude'],\n",
    "            r['Ylatitude'],\n",
    "            r['nbre_pdc'],\n",
    "            r['puiss_max'],\n",
    "            r['type_prise'],\n",
    "            r['accessibilité'] \n",
    "            )\n",
    "        )\n",
    "\n",
    "connection.commit() "
   ]
  },
  {
   "cell_type": "code",
   "execution_count": null,
   "metadata": {},
   "outputs": [],
   "source": []
  }
 ],
 "metadata": {
  "kernelspec": {
   "display_name": "Python 3",
   "language": "python",
   "name": "python3"
  },
  "language_info": {
   "codemirror_mode": {
    "name": "ipython",
    "version": 3
   },
   "file_extension": ".py",
   "mimetype": "text/x-python",
   "name": "python",
   "nbconvert_exporter": "python",
   "pygments_lexer": "ipython3",
   "version": "3.7.1"
  }
 },
 "nbformat": 4,
 "nbformat_minor": 2
}
