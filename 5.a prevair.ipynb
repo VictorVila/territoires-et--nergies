{
 "cells": [
  {
   "cell_type": "markdown",
   "metadata": {},
   "source": [
    "# Prevair\n",
    "\n",
    "Ce notebook sert à préparer les données des collectivités entre 20K et 50K habitants.\n",
    "\n",
    "On va combiner des informations de ces sources :\n",
    "\n",
    "https://www.data.gouv.fr/fr/datasets/mise-a-disposition-de-donnees-de-qualite-de-lair-sur-la-france-www-prevair-org-1/\n",
    "\n",
    "Ce fichier compressé comprend deux propriétés racine :\n",
    "\n",
    "* metadata : données calculées\n",
    "* records : données extraites (enregistrements)\n",
    "\n",
    "Les métadonnées comprennent la date, la BBOX et les minima et maxima de chaque type de prévision.\n",
    "\n",
    "Chaque enregistrement comprend la totalité des prévisions pour une position géographique donnée, ainsi que les attributs lon et lat."
   ]
  },
  {
   "cell_type": "code",
   "execution_count": 1,
   "metadata": {
    "collapsed": true
   },
   "outputs": [],
   "source": [
    "# Données prevair \n",
    "# https://www.data.gouv.fr/fr/datasets/mise-a-disposition-de-donnees-de-qualite-de-lair-sur-la-france-www-prevair-org-1/\n",
    "\n",
    "# prev = pd.read_json('data/air/prevair-previsions-20180810.json')\n",
    "# erreur car il y a de champs imbriqués"
   ]
  },
  {
   "cell_type": "code",
   "execution_count": 1,
   "metadata": {
    "collapsed": true
   },
   "outputs": [],
   "source": [
    "import pandas as pd\n",
    "import numpy as np\n",
    "import json\n",
    "import requests"
   ]
  },
  {
   "cell_type": "code",
   "execution_count": 3,
   "metadata": {},
   "outputs": [
    {
     "data": {
      "text/plain": [
       "['metadata', 'records']"
      ]
     },
     "execution_count": 3,
     "metadata": {},
     "output_type": "execute_result"
    }
   ],
   "source": [
    "#d = json.loads(requests.get('http://localhost/www/energie/data/air/prevair-previsions-20180810.json').text)\n",
    "d = json.loads(requests.get('http://localhost/www/energie/data/air/previsions-20180921.json').text)\n",
    "list(d.keys())\n"
   ]
  },
  {
   "cell_type": "code",
   "execution_count": 4,
   "metadata": {},
   "outputs": [
    {
     "data": {
      "text/html": [
       "<div>\n",
       "<style>\n",
       "    .dataframe thead tr:only-child th {\n",
       "        text-align: right;\n",
       "    }\n",
       "\n",
       "    .dataframe thead th {\n",
       "        text-align: left;\n",
       "    }\n",
       "\n",
       "    .dataframe tbody tr th {\n",
       "        vertical-align: top;\n",
       "    }\n",
       "</style>\n",
       "<table border=\"1\" class=\"dataframe\">\n",
       "  <thead>\n",
       "    <tr style=\"text-align: right;\">\n",
       "      <th></th>\n",
       "      <th>NO2-MAXJ0</th>\n",
       "      <th>NO2-MAXJ1</th>\n",
       "      <th>NO2-MAXJ2</th>\n",
       "      <th>NO2-MAXJ3</th>\n",
       "      <th>NO2-MOYJ0</th>\n",
       "      <th>NO2-MOYJ1</th>\n",
       "      <th>NO2-MOYJ2</th>\n",
       "      <th>NO2-MOYJ3</th>\n",
       "      <th>O3-MAXJ0</th>\n",
       "      <th>O3-MAXJ1</th>\n",
       "      <th>...</th>\n",
       "      <th>PM25-MAXJ3</th>\n",
       "      <th>PM25-MOYJ0</th>\n",
       "      <th>PM25-MOYJ1</th>\n",
       "      <th>PM25-MOYJ2</th>\n",
       "      <th>PM25-MOYJ3</th>\n",
       "      <th>date</th>\n",
       "      <th>maxLat</th>\n",
       "      <th>maxLon</th>\n",
       "      <th>minLat</th>\n",
       "      <th>minLon</th>\n",
       "    </tr>\n",
       "  </thead>\n",
       "  <tbody>\n",
       "    <tr>\n",
       "      <th>maxValue</th>\n",
       "      <td>109.01</td>\n",
       "      <td>77.04</td>\n",
       "      <td>89.00</td>\n",
       "      <td>91.79</td>\n",
       "      <td>58.81</td>\n",
       "      <td>42.41</td>\n",
       "      <td>41.74</td>\n",
       "      <td>60.16</td>\n",
       "      <td>158.03</td>\n",
       "      <td>134.13</td>\n",
       "      <td>...</td>\n",
       "      <td>60.94</td>\n",
       "      <td>32.90</td>\n",
       "      <td>42.80</td>\n",
       "      <td>35.11</td>\n",
       "      <td>35.62</td>\n",
       "      <td>2018-09-21</td>\n",
       "      <td>52.289</td>\n",
       "      <td>11.172</td>\n",
       "      <td>40.508</td>\n",
       "      <td>-5.484</td>\n",
       "    </tr>\n",
       "    <tr>\n",
       "      <th>minValue</th>\n",
       "      <td>9.50</td>\n",
       "      <td>10.48</td>\n",
       "      <td>0.99</td>\n",
       "      <td>9.90</td>\n",
       "      <td>3.45</td>\n",
       "      <td>2.36</td>\n",
       "      <td>0.00</td>\n",
       "      <td>2.17</td>\n",
       "      <td>59.87</td>\n",
       "      <td>56.85</td>\n",
       "      <td>...</td>\n",
       "      <td>0.00</td>\n",
       "      <td>4.73</td>\n",
       "      <td>2.88</td>\n",
       "      <td>5.99</td>\n",
       "      <td>6.56</td>\n",
       "      <td>2018-09-21</td>\n",
       "      <td>52.289</td>\n",
       "      <td>11.172</td>\n",
       "      <td>40.508</td>\n",
       "      <td>-5.484</td>\n",
       "    </tr>\n",
       "  </tbody>\n",
       "</table>\n",
       "<p>2 rows × 37 columns</p>\n",
       "</div>"
      ],
      "text/plain": [
       "          NO2-MAXJ0  NO2-MAXJ1  NO2-MAXJ2  NO2-MAXJ3  NO2-MOYJ0  NO2-MOYJ1  \\\n",
       "maxValue     109.01      77.04      89.00      91.79      58.81      42.41   \n",
       "minValue       9.50      10.48       0.99       9.90       3.45       2.36   \n",
       "\n",
       "          NO2-MOYJ2  NO2-MOYJ3  O3-MAXJ0  O3-MAXJ1   ...    PM25-MAXJ3  \\\n",
       "maxValue      41.74      60.16    158.03    134.13   ...         60.94   \n",
       "minValue       0.00       2.17     59.87     56.85   ...          0.00   \n",
       "\n",
       "          PM25-MOYJ0  PM25-MOYJ1  PM25-MOYJ2  PM25-MOYJ3        date  maxLat  \\\n",
       "maxValue       32.90       42.80       35.11       35.62  2018-09-21  52.289   \n",
       "minValue        4.73        2.88        5.99        6.56  2018-09-21  52.289   \n",
       "\n",
       "          maxLon  minLat  minLon  \n",
       "maxValue  11.172  40.508  -5.484  \n",
       "minValue  11.172  40.508  -5.484  \n",
       "\n",
       "[2 rows x 37 columns]"
      ]
     },
     "execution_count": 4,
     "metadata": {},
     "output_type": "execute_result"
    }
   ],
   "source": [
    "meta = pd.DataFrame(d['metadata'])\n",
    "meta.head(3)"
   ]
  },
  {
   "cell_type": "code",
   "execution_count": 5,
   "metadata": {},
   "outputs": [
    {
     "data": {
      "text/html": [
       "<div>\n",
       "<style>\n",
       "    .dataframe thead tr:only-child th {\n",
       "        text-align: right;\n",
       "    }\n",
       "\n",
       "    .dataframe thead th {\n",
       "        text-align: left;\n",
       "    }\n",
       "\n",
       "    .dataframe tbody tr th {\n",
       "        vertical-align: top;\n",
       "    }\n",
       "</style>\n",
       "<table border=\"1\" class=\"dataframe\">\n",
       "  <thead>\n",
       "    <tr style=\"text-align: right;\">\n",
       "      <th></th>\n",
       "      <th>NO2-MAXJ0</th>\n",
       "      <th>NO2-MAXJ1</th>\n",
       "      <th>NO2-MAXJ2</th>\n",
       "      <th>NO2-MAXJ3</th>\n",
       "      <th>NO2-MOYJ0</th>\n",
       "      <th>NO2-MOYJ1</th>\n",
       "      <th>NO2-MOYJ2</th>\n",
       "      <th>NO2-MOYJ3</th>\n",
       "      <th>O3-MAXJ0</th>\n",
       "      <th>O3-MAXJ1</th>\n",
       "      <th>...</th>\n",
       "      <th>PM25-MAXJ0</th>\n",
       "      <th>PM25-MAXJ1</th>\n",
       "      <th>PM25-MAXJ2</th>\n",
       "      <th>PM25-MAXJ3</th>\n",
       "      <th>PM25-MOYJ0</th>\n",
       "      <th>PM25-MOYJ1</th>\n",
       "      <th>PM25-MOYJ2</th>\n",
       "      <th>PM25-MOYJ3</th>\n",
       "      <th>lat</th>\n",
       "      <th>lon</th>\n",
       "    </tr>\n",
       "  </thead>\n",
       "  <tbody>\n",
       "    <tr>\n",
       "      <th>0</th>\n",
       "      <td>22.05</td>\n",
       "      <td>21.05</td>\n",
       "      <td>13.17</td>\n",
       "      <td>25.04</td>\n",
       "      <td>8.80</td>\n",
       "      <td>7.37</td>\n",
       "      <td>6.43</td>\n",
       "      <td>9.22</td>\n",
       "      <td>97.16</td>\n",
       "      <td>91.51</td>\n",
       "      <td>...</td>\n",
       "      <td>24.83</td>\n",
       "      <td>23.07</td>\n",
       "      <td>24.71</td>\n",
       "      <td>24.53</td>\n",
       "      <td>15.90</td>\n",
       "      <td>16.89</td>\n",
       "      <td>18.49</td>\n",
       "      <td>17.82</td>\n",
       "      <td>40.508</td>\n",
       "      <td>-5.484</td>\n",
       "    </tr>\n",
       "    <tr>\n",
       "      <th>1</th>\n",
       "      <td>22.09</td>\n",
       "      <td>21.10</td>\n",
       "      <td>13.18</td>\n",
       "      <td>25.07</td>\n",
       "      <td>8.80</td>\n",
       "      <td>7.38</td>\n",
       "      <td>6.42</td>\n",
       "      <td>9.20</td>\n",
       "      <td>97.16</td>\n",
       "      <td>91.63</td>\n",
       "      <td>...</td>\n",
       "      <td>24.94</td>\n",
       "      <td>23.21</td>\n",
       "      <td>24.77</td>\n",
       "      <td>24.45</td>\n",
       "      <td>16.01</td>\n",
       "      <td>17.00</td>\n",
       "      <td>18.47</td>\n",
       "      <td>17.88</td>\n",
       "      <td>40.508</td>\n",
       "      <td>-5.453</td>\n",
       "    </tr>\n",
       "    <tr>\n",
       "      <th>2</th>\n",
       "      <td>22.31</td>\n",
       "      <td>21.17</td>\n",
       "      <td>13.20</td>\n",
       "      <td>25.12</td>\n",
       "      <td>8.85</td>\n",
       "      <td>7.40</td>\n",
       "      <td>6.43</td>\n",
       "      <td>9.20</td>\n",
       "      <td>97.12</td>\n",
       "      <td>91.78</td>\n",
       "      <td>...</td>\n",
       "      <td>25.02</td>\n",
       "      <td>23.31</td>\n",
       "      <td>24.83</td>\n",
       "      <td>24.17</td>\n",
       "      <td>16.05</td>\n",
       "      <td>17.05</td>\n",
       "      <td>18.44</td>\n",
       "      <td>17.91</td>\n",
       "      <td>40.508</td>\n",
       "      <td>-5.422</td>\n",
       "    </tr>\n",
       "  </tbody>\n",
       "</table>\n",
       "<p>3 rows × 34 columns</p>\n",
       "</div>"
      ],
      "text/plain": [
       "   NO2-MAXJ0  NO2-MAXJ1  NO2-MAXJ2  NO2-MAXJ3  NO2-MOYJ0  NO2-MOYJ1  \\\n",
       "0      22.05      21.05      13.17      25.04       8.80       7.37   \n",
       "1      22.09      21.10      13.18      25.07       8.80       7.38   \n",
       "2      22.31      21.17      13.20      25.12       8.85       7.40   \n",
       "\n",
       "   NO2-MOYJ2  NO2-MOYJ3  O3-MAXJ0  O3-MAXJ1  ...    PM25-MAXJ0  PM25-MAXJ1  \\\n",
       "0       6.43       9.22     97.16     91.51  ...         24.83       23.07   \n",
       "1       6.42       9.20     97.16     91.63  ...         24.94       23.21   \n",
       "2       6.43       9.20     97.12     91.78  ...         25.02       23.31   \n",
       "\n",
       "   PM25-MAXJ2  PM25-MAXJ3  PM25-MOYJ0  PM25-MOYJ1  PM25-MOYJ2  PM25-MOYJ3  \\\n",
       "0       24.71       24.53       15.90       16.89       18.49       17.82   \n",
       "1       24.77       24.45       16.01       17.00       18.47       17.88   \n",
       "2       24.83       24.17       16.05       17.05       18.44       17.91   \n",
       "\n",
       "      lat    lon  \n",
       "0  40.508 -5.484  \n",
       "1  40.508 -5.453  \n",
       "2  40.508 -5.422  \n",
       "\n",
       "[3 rows x 34 columns]"
      ]
     },
     "execution_count": 5,
     "metadata": {},
     "output_type": "execute_result"
    }
   ],
   "source": [
    "records = pd.DataFrame(d['records'])\n",
    "records.head(3)"
   ]
  },
  {
   "cell_type": "code",
   "execution_count": 6,
   "metadata": {},
   "outputs": [
    {
     "data": {
      "text/plain": [
       "Index(['NO2-MAXJ0', 'NO2-MAXJ1', 'NO2-MAXJ2', 'NO2-MAXJ3', 'NO2-MOYJ0',\n",
       "       'NO2-MOYJ1', 'NO2-MOYJ2', 'NO2-MOYJ3', 'O3-MAXJ0', 'O3-MAXJ1',\n",
       "       'O3-MAXJ2', 'O3-MAXJ3', 'O3-MOYJ0', 'O3-MOYJ1', 'O3-MOYJ2', 'O3-MOYJ3',\n",
       "       'PM10-MAXJ0', 'PM10-MAXJ1', 'PM10-MAXJ2', 'PM10-MAXJ3', 'PM10-MOYJ0',\n",
       "       'PM10-MOYJ1', 'PM10-MOYJ2', 'PM10-MOYJ3', 'PM25-MAXJ0', 'PM25-MAXJ1',\n",
       "       'PM25-MAXJ2', 'PM25-MAXJ3', 'PM25-MOYJ0', 'PM25-MOYJ1', 'PM25-MOYJ2',\n",
       "       'PM25-MOYJ3', 'lat', 'lon'],\n",
       "      dtype='object')"
      ]
     },
     "execution_count": 6,
     "metadata": {},
     "output_type": "execute_result"
    }
   ],
   "source": [
    "records.columns"
   ]
  },
  {
   "cell_type": "code",
   "execution_count": 7,
   "metadata": {},
   "outputs": [
    {
     "data": {
      "text/html": [
       "<div>\n",
       "<style>\n",
       "    .dataframe thead tr:only-child th {\n",
       "        text-align: right;\n",
       "    }\n",
       "\n",
       "    .dataframe thead th {\n",
       "        text-align: left;\n",
       "    }\n",
       "\n",
       "    .dataframe tbody tr th {\n",
       "        vertical-align: top;\n",
       "    }\n",
       "</style>\n",
       "<table border=\"1\" class=\"dataframe\">\n",
       "  <thead>\n",
       "    <tr style=\"text-align: right;\">\n",
       "      <th></th>\n",
       "      <th>no2</th>\n",
       "      <th>o3</th>\n",
       "      <th>pm10</th>\n",
       "      <th>pm25</th>\n",
       "      <th>latitude</th>\n",
       "      <th>longitude</th>\n",
       "    </tr>\n",
       "  </thead>\n",
       "  <tbody>\n",
       "    <tr>\n",
       "      <th>0</th>\n",
       "      <td>8.80</td>\n",
       "      <td>60.64</td>\n",
       "      <td>19.61</td>\n",
       "      <td>15.90</td>\n",
       "      <td>40.508</td>\n",
       "      <td>-5.484</td>\n",
       "    </tr>\n",
       "    <tr>\n",
       "      <th>1</th>\n",
       "      <td>8.80</td>\n",
       "      <td>61.10</td>\n",
       "      <td>19.72</td>\n",
       "      <td>16.01</td>\n",
       "      <td>40.508</td>\n",
       "      <td>-5.453</td>\n",
       "    </tr>\n",
       "    <tr>\n",
       "      <th>2</th>\n",
       "      <td>8.85</td>\n",
       "      <td>62.18</td>\n",
       "      <td>19.76</td>\n",
       "      <td>16.05</td>\n",
       "      <td>40.508</td>\n",
       "      <td>-5.422</td>\n",
       "    </tr>\n",
       "  </tbody>\n",
       "</table>\n",
       "</div>"
      ],
      "text/plain": [
       "    no2     o3   pm10   pm25  latitude  longitude\n",
       "0  8.80  60.64  19.61  15.90    40.508     -5.484\n",
       "1  8.80  61.10  19.72  16.01    40.508     -5.453\n",
       "2  8.85  62.18  19.76  16.05    40.508     -5.422"
      ]
     },
     "execution_count": 7,
     "metadata": {},
     "output_type": "execute_result"
    }
   ],
   "source": [
    "records = records.drop(['NO2-MAXJ0', 'NO2-MAXJ1', 'NO2-MAXJ2', 'NO2-MAXJ3',\n",
    "       'NO2-MOYJ1', 'NO2-MOYJ2', 'NO2-MOYJ3', 'O3-MAXJ0', 'O3-MAXJ1',\n",
    "       'O3-MAXJ2', 'O3-MAXJ3', 'O3-MOYJ1', 'O3-MOYJ2', 'O3-MOYJ3',\n",
    "       'PM10-MAXJ0', 'PM10-MAXJ1', 'PM10-MAXJ2', 'PM10-MAXJ3', \n",
    "       'PM10-MOYJ1', 'PM10-MOYJ2', 'PM10-MOYJ3', 'PM25-MAXJ0', 'PM25-MAXJ1',\n",
    "       'PM25-MAXJ2', 'PM25-MAXJ3', 'PM25-MOYJ1', 'PM25-MOYJ2',\n",
    "       'PM25-MOYJ3'], axis=1)\n",
    "records = records.rename(columns={'NO2-MOYJ0': 'no2','O3-MOYJ0': 'o3','PM10-MOYJ0': 'pm10', \n",
    "                                  'PM25-MOYJ0': 'pm25', 'lat':'latitude', 'lon':'longitude'})\n",
    "records.head(3)"
   ]
  },
  {
   "cell_type": "markdown",
   "metadata": {},
   "source": [
    "### to CSV pour stockage"
   ]
  },
  {
   "cell_type": "code",
   "execution_count": 8,
   "metadata": {
    "collapsed": true
   },
   "outputs": [],
   "source": [
    "records.to_csv('data/air/prevair-201-09-21.csv')"
   ]
  },
  {
   "cell_type": "markdown",
   "metadata": {},
   "source": [
    "### Re-open avec dtpe str"
   ]
  },
  {
   "cell_type": "code",
   "execution_count": 9,
   "metadata": {},
   "outputs": [
    {
     "data": {
      "text/html": [
       "<div>\n",
       "<style>\n",
       "    .dataframe thead tr:only-child th {\n",
       "        text-align: right;\n",
       "    }\n",
       "\n",
       "    .dataframe thead th {\n",
       "        text-align: left;\n",
       "    }\n",
       "\n",
       "    .dataframe tbody tr th {\n",
       "        vertical-align: top;\n",
       "    }\n",
       "</style>\n",
       "<table border=\"1\" class=\"dataframe\">\n",
       "  <thead>\n",
       "    <tr style=\"text-align: right;\">\n",
       "      <th></th>\n",
       "      <th>Unnamed: 0</th>\n",
       "      <th>no2</th>\n",
       "      <th>o3</th>\n",
       "      <th>pm10</th>\n",
       "      <th>pm25</th>\n",
       "      <th>latitude</th>\n",
       "      <th>longitude</th>\n",
       "    </tr>\n",
       "  </thead>\n",
       "  <tbody>\n",
       "    <tr>\n",
       "      <th>0</th>\n",
       "      <td>0</td>\n",
       "      <td>8.8</td>\n",
       "      <td>60.64</td>\n",
       "      <td>19.61</td>\n",
       "      <td>15.9</td>\n",
       "      <td>40.508</td>\n",
       "      <td>-5.484</td>\n",
       "    </tr>\n",
       "    <tr>\n",
       "      <th>1</th>\n",
       "      <td>1</td>\n",
       "      <td>8.8</td>\n",
       "      <td>61.1</td>\n",
       "      <td>19.72</td>\n",
       "      <td>16.01</td>\n",
       "      <td>40.508</td>\n",
       "      <td>-5.453</td>\n",
       "    </tr>\n",
       "    <tr>\n",
       "      <th>2</th>\n",
       "      <td>2</td>\n",
       "      <td>8.85</td>\n",
       "      <td>62.18</td>\n",
       "      <td>19.76</td>\n",
       "      <td>16.05</td>\n",
       "      <td>40.508</td>\n",
       "      <td>-5.422</td>\n",
       "    </tr>\n",
       "  </tbody>\n",
       "</table>\n",
       "</div>"
      ],
      "text/plain": [
       "  Unnamed: 0   no2     o3   pm10   pm25 latitude longitude\n",
       "0          0   8.8  60.64  19.61   15.9   40.508    -5.484\n",
       "1          1   8.8   61.1  19.72  16.01   40.508    -5.453\n",
       "2          2  8.85  62.18  19.76  16.05   40.508    -5.422"
      ]
     },
     "execution_count": 9,
     "metadata": {},
     "output_type": "execute_result"
    }
   ],
   "source": [
    "# Lors de la insertion SQL on avait une erreur de transformation np.float ... (?)\n",
    "# on ouvre tout en str\n",
    "#records = pd.read_csv('data/air/prevair.csv', dtype=str)\n",
    "records = pd.read_csv('data/air/prevair-201-09-21.csv', dtype=str)\n",
    "records.head(3)"
   ]
  },
  {
   "cell_type": "markdown",
   "metadata": {},
   "source": [
    "# To BDD"
   ]
  },
  {
   "cell_type": "code",
   "execution_count": 10,
   "metadata": {
    "collapsed": true
   },
   "outputs": [],
   "source": [
    "import pymysql.cursors\n",
    "\n",
    "connection = pymysql.connect( host='localhost',\n",
    "                              user='root',\n",
    "                              passwd='root',\n",
    "                              db='energie',\n",
    "                              charset='utf8mb4',\n",
    "                              cursorclass=pymysql.cursors.DictCursor)\n",
    "\n",
    "cursor = connection.cursor()\n"
   ]
  },
  {
   "cell_type": "code",
   "execution_count": 11,
   "metadata": {
    "collapsed": true
   },
   "outputs": [],
   "source": [
    "with connection.cursor() as cursor:\n",
    "    \n",
    "    sql = (\"INSERT INTO `prevair_moyJ0` \"\n",
    "           \"( no2, o3, pm10, pm25, latitude, longitude )\"\n",
    "           \"VALUES ( %s, %s, %s, %s, %s, %s )\")\n",
    "\n",
    "    for i, r in records.iterrows():\n",
    "        cursor.execute(sql, \n",
    "                       (r['no2'], r['o3'], r['pm10'], r['pm25'], \n",
    "                        r['latitude'],r['longitude'] )\n",
    "                      )\n",
    "\n",
    "connection.commit() "
   ]
  },
  {
   "cell_type": "code",
   "execution_count": null,
   "metadata": {
    "collapsed": true
   },
   "outputs": [],
   "source": []
  }
 ],
 "metadata": {
  "kernelspec": {
   "display_name": "Python 3",
   "language": "python",
   "name": "python3"
  },
  "language_info": {
   "codemirror_mode": {
    "name": "ipython",
    "version": 3
   },
   "file_extension": ".py",
   "mimetype": "text/x-python",
   "name": "python",
   "nbconvert_exporter": "python",
   "pygments_lexer": "ipython3",
   "version": "3.6.1"
  }
 },
 "nbformat": 4,
 "nbformat_minor": 2
}
